{
 "cells": [
  {
   "cell_type": "markdown",
   "id": "8ad5c682",
   "metadata": {},
   "source": [
    "# Credit Portfolio Analysis\n",
    "\n",
    "## Introduction\n",
    "This Jupyter notebook is designed to perform a **comprehensive credit portfolio analysis** on the provided loan and payment datasets. The goal is to compute key **portfolio quality and performance metrics** that are critical for risk management and financial reporting. Specifically, the notebook calculates:  \n",
    "\n",
    "- **Default Rate** – proportion of loans that have become non-performing (past due > 120 days and not yet settled)  \n",
    "- **Write-off Rate** – share of total principal written off due to default  \n",
    "- **Portfolio at Risk (PAR)** – outstanding balance of loans overdue beyond a specified threshold relative to the total active portfolio  \n",
    "- **Recovery Rate** – effectiveness of recovering amounts from defaulted loans  \n",
    "- **Average Days Past Due (DPD)** – typical delay in repayment among overdue loans  \n",
    "- **Net Interest Margin (NIM) per Loan** – simplified gross yield including interest and net fees  \n",
    "- **Loan Loss Provisioning** – estimated provisioning expense based on overdue loans and company policy  \n",
    "\n",
    "---\n",
    "\n",
    "## Notebook Structure\n",
    "\n",
    "### 1. Import Necessary Libraries\n",
    "- import all libraries and module need for the task\n",
    "### 2. Data Loading\n",
    "- Load the **loan dataset** containing loan details such as principal, interest, fees, due dates, and settlement dates.\n",
    "- Load the **payment dataset** containing all repayments made by customers with multiple payment records per loan.\n",
    "\n",
    "### 3. Data Cleaning & Preparation\n",
    "- Convert date columns to **datetime** format.\n",
    "- Aggregate payments per loan to compute **total amount paid**.\n",
    "\n",
    "### 4. KPI Calculations\n",
    "- **Default Rate** – count loans overdue >120 days and not settled.\n",
    "- **Write-off Rate** – proportion of principal for written-off loans.\n",
    "- **Portfolio at Risk (PAR)** – outstanding balance of overdue loans relative to total active portfolio.\n",
    "- **Recovery Rate** – recovered amounts from defaulted loans as a percentage of total defaulted amount.\n",
    "- **Average DPD** – mean days past due for active past-due loans.\n",
    "- **Net Interest Margin (NIM)** – calculated per loan based on earned interest, net fees, and loan tenure.\n",
    "- **Loan Loss Provisioning** – compute provision per loan based on DPD and total portfolio provisioning cost.\n"
   ]
  },
  {
   "cell_type": "markdown",
   "id": "300cb652",
   "metadata": {},
   "source": [
    "### Import Necessary Libraries"
   ]
  },
  {
   "cell_type": "code",
   "execution_count": 1,
   "id": "be4fc122",
   "metadata": {},
   "outputs": [],
   "source": [
    "import pandas as pd\n",
    "import numpy as np\n",
    "from datetime import datetime,timedelta,date"
   ]
  },
  {
   "cell_type": "markdown",
   "id": "567716f6",
   "metadata": {},
   "source": [
    "### Load the Dataset"
   ]
  },
  {
   "cell_type": "code",
   "execution_count": 2,
   "id": "40cabf7d",
   "metadata": {},
   "outputs": [],
   "source": [
    "# read loan data\n",
    "loan_data = pd.read_excel(\"loans_data.xlsx\")"
   ]
  },
  {
   "cell_type": "code",
   "execution_count": 3,
   "id": "d8b9e2ed",
   "metadata": {},
   "outputs": [
    {
     "data": {
      "text/html": [
       "<div>\n",
       "<style scoped>\n",
       "    .dataframe tbody tr th:only-of-type {\n",
       "        vertical-align: middle;\n",
       "    }\n",
       "\n",
       "    .dataframe tbody tr th {\n",
       "        vertical-align: top;\n",
       "    }\n",
       "\n",
       "    .dataframe thead th {\n",
       "        text-align: right;\n",
       "    }\n",
       "</style>\n",
       "<table border=\"1\" class=\"dataframe\">\n",
       "  <thead>\n",
       "    <tr style=\"text-align: right;\">\n",
       "      <th></th>\n",
       "      <th>loan_code</th>\n",
       "      <th>customer_id</th>\n",
       "      <th>product_type</th>\n",
       "      <th>disbursed_date</th>\n",
       "      <th>disbursed_amount</th>\n",
       "      <th>loan_due_date</th>\n",
       "      <th>settlement_date</th>\n",
       "      <th>gross_loan_interest</th>\n",
       "      <th>surplus_payment</th>\n",
       "      <th>unerned_interest</th>\n",
       "      <th>penalties</th>\n",
       "      <th>waiver</th>\n",
       "      <th>initiation_fee</th>\n",
       "      <th>admin_fee</th>\n",
       "      <th>appointment_fee</th>\n",
       "      <th>joining_fee</th>\n",
       "      <th>fix</th>\n",
       "      <th>total_due</th>\n",
       "    </tr>\n",
       "  </thead>\n",
       "  <tbody>\n",
       "    <tr>\n",
       "      <th>0</th>\n",
       "      <td>-8063280106777311930</td>\n",
       "      <td>8.138699e+18</td>\n",
       "      <td>CASH_SALES</td>\n",
       "      <td>2018-04-03</td>\n",
       "      <td>1250</td>\n",
       "      <td>2018-05-02</td>\n",
       "      <td>2018-04-03 00:00:00 UTC</td>\n",
       "      <td>0.0</td>\n",
       "      <td>0.0</td>\n",
       "      <td>0.0</td>\n",
       "      <td>0</td>\n",
       "      <td>-1250.0</td>\n",
       "      <td>0</td>\n",
       "      <td>0.0</td>\n",
       "      <td>0.0</td>\n",
       "      <td>0.0</td>\n",
       "      <td>0.0</td>\n",
       "      <td>0.0</td>\n",
       "    </tr>\n",
       "    <tr>\n",
       "      <th>1</th>\n",
       "      <td>-3785456775112180505</td>\n",
       "      <td>8.138699e+18</td>\n",
       "      <td>CASH_SALES</td>\n",
       "      <td>2018-01-23</td>\n",
       "      <td>1250</td>\n",
       "      <td>2018-02-22</td>\n",
       "      <td>2018-01-23 00:00:00 UTC</td>\n",
       "      <td>0.0</td>\n",
       "      <td>0.0</td>\n",
       "      <td>0.0</td>\n",
       "      <td>0</td>\n",
       "      <td>-1250.0</td>\n",
       "      <td>0</td>\n",
       "      <td>0.0</td>\n",
       "      <td>0.0</td>\n",
       "      <td>0.0</td>\n",
       "      <td>0.0</td>\n",
       "      <td>0.0</td>\n",
       "    </tr>\n",
       "    <tr>\n",
       "      <th>2</th>\n",
       "      <td>4192675035644252092</td>\n",
       "      <td>8.138699e+18</td>\n",
       "      <td>CASH_SALES</td>\n",
       "      <td>2018-08-23</td>\n",
       "      <td>90000</td>\n",
       "      <td>2018-09-24</td>\n",
       "      <td>2018-08-27 00:00:00 UTC</td>\n",
       "      <td>0.3</td>\n",
       "      <td>0.0</td>\n",
       "      <td>0.0</td>\n",
       "      <td>0</td>\n",
       "      <td>-30000.0</td>\n",
       "      <td>0</td>\n",
       "      <td>0.0</td>\n",
       "      <td>0.0</td>\n",
       "      <td>0.0</td>\n",
       "      <td>0.0</td>\n",
       "      <td>87000.0</td>\n",
       "    </tr>\n",
       "  </tbody>\n",
       "</table>\n",
       "</div>"
      ],
      "text/plain": [
       "             loan_code   customer_id product_type disbursed_date  \\\n",
       "0 -8063280106777311930  8.138699e+18   CASH_SALES     2018-04-03   \n",
       "1 -3785456775112180505  8.138699e+18   CASH_SALES     2018-01-23   \n",
       "2  4192675035644252092  8.138699e+18   CASH_SALES     2018-08-23   \n",
       "\n",
       "   disbursed_amount loan_due_date          settlement_date  \\\n",
       "0              1250    2018-05-02  2018-04-03 00:00:00 UTC   \n",
       "1              1250    2018-02-22  2018-01-23 00:00:00 UTC   \n",
       "2             90000    2018-09-24  2018-08-27 00:00:00 UTC   \n",
       "\n",
       "   gross_loan_interest  surplus_payment  unerned_interest  penalties   waiver  \\\n",
       "0                  0.0              0.0               0.0          0  -1250.0   \n",
       "1                  0.0              0.0               0.0          0  -1250.0   \n",
       "2                  0.3              0.0               0.0          0 -30000.0   \n",
       "\n",
       "   initiation_fee  admin_fee  appointment_fee  joining_fee  fix  total_due  \n",
       "0               0        0.0              0.0          0.0  0.0        0.0  \n",
       "1               0        0.0              0.0          0.0  0.0        0.0  \n",
       "2               0        0.0              0.0          0.0  0.0    87000.0  "
      ]
     },
     "execution_count": 3,
     "metadata": {},
     "output_type": "execute_result"
    }
   ],
   "source": [
    "# Display sample load data\n",
    "loan_data.head(3)"
   ]
  },
  {
   "cell_type": "code",
   "execution_count": 4,
   "id": "3b52e45c",
   "metadata": {},
   "outputs": [],
   "source": [
    "# read payment data\n",
    "payment_data = pd.read_excel(\"payments_data.xlsx\")"
   ]
  },
  {
   "cell_type": "code",
   "execution_count": 5,
   "id": "96af38ef",
   "metadata": {},
   "outputs": [
    {
     "data": {
      "text/html": [
       "<div>\n",
       "<style scoped>\n",
       "    .dataframe tbody tr th:only-of-type {\n",
       "        vertical-align: middle;\n",
       "    }\n",
       "\n",
       "    .dataframe tbody tr th {\n",
       "        vertical-align: top;\n",
       "    }\n",
       "\n",
       "    .dataframe thead th {\n",
       "        text-align: right;\n",
       "    }\n",
       "</style>\n",
       "<table border=\"1\" class=\"dataframe\">\n",
       "  <thead>\n",
       "    <tr style=\"text-align: right;\">\n",
       "      <th></th>\n",
       "      <th>date</th>\n",
       "      <th>loan_rep_code</th>\n",
       "      <th>amount</th>\n",
       "      <th>id</th>\n",
       "    </tr>\n",
       "  </thead>\n",
       "  <tbody>\n",
       "    <tr>\n",
       "      <th>0</th>\n",
       "      <td>2019-12-11</td>\n",
       "      <td>6551093366263666623</td>\n",
       "      <td>97</td>\n",
       "      <td>-3925191339544160207</td>\n",
       "    </tr>\n",
       "    <tr>\n",
       "      <th>1</th>\n",
       "      <td>2019-08-18</td>\n",
       "      <td>2538002466878584691</td>\n",
       "      <td>6000</td>\n",
       "      <td>7545899052503010380</td>\n",
       "    </tr>\n",
       "    <tr>\n",
       "      <th>2</th>\n",
       "      <td>2019-08-19</td>\n",
       "      <td>2538002466878584691</td>\n",
       "      <td>2560</td>\n",
       "      <td>2168229508398644566</td>\n",
       "    </tr>\n",
       "    <tr>\n",
       "      <th>3</th>\n",
       "      <td>2019-05-28</td>\n",
       "      <td>-7091408425690813765</td>\n",
       "      <td>24242</td>\n",
       "      <td>8115022827661941455</td>\n",
       "    </tr>\n",
       "    <tr>\n",
       "      <th>4</th>\n",
       "      <td>2020-01-02</td>\n",
       "      <td>5220885072334740083</td>\n",
       "      <td>9900</td>\n",
       "      <td>-3667170369671842832</td>\n",
       "    </tr>\n",
       "  </tbody>\n",
       "</table>\n",
       "</div>"
      ],
      "text/plain": [
       "        date        loan_rep_code  amount                   id\n",
       "0 2019-12-11  6551093366263666623      97 -3925191339544160207\n",
       "1 2019-08-18  2538002466878584691    6000  7545899052503010380\n",
       "2 2019-08-19  2538002466878584691    2560  2168229508398644566\n",
       "3 2019-05-28 -7091408425690813765   24242  8115022827661941455\n",
       "4 2020-01-02  5220885072334740083    9900 -3667170369671842832"
      ]
     },
     "execution_count": 5,
     "metadata": {},
     "output_type": "execute_result"
    }
   ],
   "source": [
    "# Display sample payment data\n",
    "payment_data.head()"
   ]
  },
  {
   "cell_type": "code",
   "execution_count": 6,
   "id": "f72388dc",
   "metadata": {},
   "outputs": [
    {
     "name": "stdout",
     "output_type": "stream",
     "text": [
      "=== Here are variables present in Loan data ===\n",
      "Index(['loan_code', 'customer_id', 'product_type', 'disbursed_date',\n",
      "       'disbursed_amount', 'loan_due_date', 'settlement_date',\n",
      "       'gross_loan_interest', 'surplus_payment', 'unerned_interest',\n",
      "       'penalties', 'waiver', 'initiation_fee', 'admin_fee', 'appointment_fee',\n",
      "       'joining_fee', 'fix', 'total_due'],\n",
      "      dtype='object')\n",
      "\n",
      "\n",
      "=== Here are variables present in Payment data === \n",
      "Index(['date', 'loan_rep_code', 'amount', 'id'], dtype='object')\n"
     ]
    }
   ],
   "source": [
    "# Check features available in loan data\n",
    "print(f\"=== Here are variables present in Loan data ===\")\n",
    "print(loan_data.columns)\n",
    "print(f\"\\n\")\n",
    "\n",
    "# Display features available in pyament data\n",
    "print(f\"=== Here are variables present in Payment data === \")\n",
    "print(payment_data.columns)"
   ]
  },
  {
   "cell_type": "markdown",
   "id": "0e583f03",
   "metadata": {},
   "source": [
    "### Data Preparation"
   ]
  },
  {
   "cell_type": "code",
   "execution_count": 7,
   "id": "c7f6f51f",
   "metadata": {},
   "outputs": [
    {
     "data": {
      "text/plain": [
       "loan_code                       int64\n",
       "customer_id                   float64\n",
       "product_type                   object\n",
       "disbursed_date         datetime64[ns]\n",
       "disbursed_amount                int64\n",
       "loan_due_date          datetime64[ns]\n",
       "settlement_date                object\n",
       "gross_loan_interest           float64\n",
       "surplus_payment               float64\n",
       "unerned_interest              float64\n",
       "penalties                       int64\n",
       "waiver                        float64\n",
       "initiation_fee                  int64\n",
       "admin_fee                     float64\n",
       "appointment_fee               float64\n",
       "joining_fee                   float64\n",
       "fix                           float64\n",
       "total_due                     float64\n",
       "dtype: object"
      ]
     },
     "execution_count": 7,
     "metadata": {},
     "output_type": "execute_result"
    }
   ],
   "source": [
    "## confirm of variables in loan data has appriate data type to allow operation to be performed on them\n",
    "loan_data.dtypes"
   ]
  },
  {
   "cell_type": "code",
   "execution_count": 8,
   "id": "32ebe318",
   "metadata": {},
   "outputs": [],
   "source": [
    "## convert settlement_date to python date object\n",
    "loan_data['settlement_date'] = pd.to_datetime(loan_data['settlement_date']).dt.normalize()"
   ]
  },
  {
   "cell_type": "code",
   "execution_count": 9,
   "id": "8c2c0f8b",
   "metadata": {},
   "outputs": [
    {
     "data": {
      "text/plain": [
       "date             datetime64[ns]\n",
       "loan_rep_code             int64\n",
       "amount                    int64\n",
       "id                        int64\n",
       "dtype: object"
      ]
     },
     "execution_count": 9,
     "metadata": {},
     "output_type": "execute_result"
    }
   ],
   "source": [
    "## check and handle data types issue on payment data\n",
    "payment_data.dtypes"
   ]
  },
  {
   "cell_type": "markdown",
   "id": "5565ad9f",
   "metadata": {},
   "source": [
    "### Aggregate payments per loan"
   ]
  },
  {
   "cell_type": "code",
   "execution_count": 10,
   "id": "55e0165d",
   "metadata": {},
   "outputs": [
    {
     "data": {
      "text/html": [
       "<div>\n",
       "<style scoped>\n",
       "    .dataframe tbody tr th:only-of-type {\n",
       "        vertical-align: middle;\n",
       "    }\n",
       "\n",
       "    .dataframe tbody tr th {\n",
       "        vertical-align: top;\n",
       "    }\n",
       "\n",
       "    .dataframe thead th {\n",
       "        text-align: right;\n",
       "    }\n",
       "</style>\n",
       "<table border=\"1\" class=\"dataframe\">\n",
       "  <thead>\n",
       "    <tr style=\"text-align: right;\">\n",
       "      <th></th>\n",
       "      <th>loan_rep_code</th>\n",
       "      <th>total_amount_paid</th>\n",
       "      <th>last_payment_date</th>\n",
       "    </tr>\n",
       "  </thead>\n",
       "  <tbody>\n",
       "    <tr>\n",
       "      <th>0</th>\n",
       "      <td>-9223351916581235936</td>\n",
       "      <td>435600</td>\n",
       "      <td>2022-11-07</td>\n",
       "    </tr>\n",
       "    <tr>\n",
       "      <th>1</th>\n",
       "      <td>-9223347553164632852</td>\n",
       "      <td>358500</td>\n",
       "      <td>2024-07-06</td>\n",
       "    </tr>\n",
       "    <tr>\n",
       "      <th>2</th>\n",
       "      <td>-9223306595261143748</td>\n",
       "      <td>50000</td>\n",
       "      <td>2022-09-21</td>\n",
       "    </tr>\n",
       "  </tbody>\n",
       "</table>\n",
       "</div>"
      ],
      "text/plain": [
       "         loan_rep_code  total_amount_paid last_payment_date\n",
       "0 -9223351916581235936             435600        2022-11-07\n",
       "1 -9223347553164632852             358500        2024-07-06\n",
       "2 -9223306595261143748              50000        2022-09-21"
      ]
     },
     "execution_count": 10,
     "metadata": {},
     "output_type": "execute_result"
    }
   ],
   "source": [
    "# peform aggregation to get total repayment amount of each loan and the last paynment data\n",
    "payments_agg = payment_data.groupby('loan_rep_code', as_index=False).agg(\n",
    "    total_amount_paid=('amount', 'sum'),\n",
    "    last_payment_date=('date', 'max')\n",
    ").fillna(0)\n",
    "\n",
    "## handle null values in  total_amount_paid column\n",
    "payments_agg[\"total_amount_paid\"] = payments_agg[\"total_amount_paid\"].fillna(0)\n",
    "\n",
    "# Display sample records\n",
    "payments_agg.head(3)"
   ]
  },
  {
   "cell_type": "markdown",
   "id": "e6103b2e",
   "metadata": {},
   "source": [
    "### Merge loan and payment data\n",
    "To make the computation requested we need to merge both two dataset"
   ]
  },
  {
   "cell_type": "code",
   "execution_count": 11,
   "id": "209555cc",
   "metadata": {},
   "outputs": [
    {
     "data": {
      "text/html": [
       "<div>\n",
       "<style scoped>\n",
       "    .dataframe tbody tr th:only-of-type {\n",
       "        vertical-align: middle;\n",
       "    }\n",
       "\n",
       "    .dataframe tbody tr th {\n",
       "        vertical-align: top;\n",
       "    }\n",
       "\n",
       "    .dataframe thead th {\n",
       "        text-align: right;\n",
       "    }\n",
       "</style>\n",
       "<table border=\"1\" class=\"dataframe\">\n",
       "  <thead>\n",
       "    <tr style=\"text-align: right;\">\n",
       "      <th></th>\n",
       "      <th>loan_code</th>\n",
       "      <th>customer_id</th>\n",
       "      <th>product_type</th>\n",
       "      <th>disbursed_date</th>\n",
       "      <th>disbursed_amount</th>\n",
       "      <th>loan_due_date</th>\n",
       "      <th>settlement_date</th>\n",
       "      <th>gross_loan_interest</th>\n",
       "      <th>surplus_payment</th>\n",
       "      <th>unerned_interest</th>\n",
       "      <th>penalties</th>\n",
       "      <th>waiver</th>\n",
       "      <th>initiation_fee</th>\n",
       "      <th>admin_fee</th>\n",
       "      <th>appointment_fee</th>\n",
       "      <th>joining_fee</th>\n",
       "      <th>fix</th>\n",
       "      <th>total_due</th>\n",
       "      <th>total_amount_paid</th>\n",
       "      <th>last_payment_date</th>\n",
       "    </tr>\n",
       "  </thead>\n",
       "  <tbody>\n",
       "    <tr>\n",
       "      <th>0</th>\n",
       "      <td>-8063280106777311930</td>\n",
       "      <td>8.138699e+18</td>\n",
       "      <td>CASH_SALES</td>\n",
       "      <td>2018-04-03</td>\n",
       "      <td>1250</td>\n",
       "      <td>2018-05-02</td>\n",
       "      <td>2018-04-03 00:00:00+00:00</td>\n",
       "      <td>0.0</td>\n",
       "      <td>0.0</td>\n",
       "      <td>0.0</td>\n",
       "      <td>0</td>\n",
       "      <td>-1250.0</td>\n",
       "      <td>0</td>\n",
       "      <td>0.0</td>\n",
       "      <td>0.0</td>\n",
       "      <td>0.0</td>\n",
       "      <td>0.0</td>\n",
       "      <td>0.0</td>\n",
       "      <td>5509400.0</td>\n",
       "      <td>2023-08-27</td>\n",
       "    </tr>\n",
       "    <tr>\n",
       "      <th>1</th>\n",
       "      <td>-3785456775112180505</td>\n",
       "      <td>8.138699e+18</td>\n",
       "      <td>CASH_SALES</td>\n",
       "      <td>2018-01-23</td>\n",
       "      <td>1250</td>\n",
       "      <td>2018-02-22</td>\n",
       "      <td>2018-01-23 00:00:00+00:00</td>\n",
       "      <td>0.0</td>\n",
       "      <td>0.0</td>\n",
       "      <td>0.0</td>\n",
       "      <td>0</td>\n",
       "      <td>-1250.0</td>\n",
       "      <td>0</td>\n",
       "      <td>0.0</td>\n",
       "      <td>0.0</td>\n",
       "      <td>0.0</td>\n",
       "      <td>0.0</td>\n",
       "      <td>0.0</td>\n",
       "      <td>428000.0</td>\n",
       "      <td>2023-08-31</td>\n",
       "    </tr>\n",
       "  </tbody>\n",
       "</table>\n",
       "</div>"
      ],
      "text/plain": [
       "             loan_code   customer_id product_type disbursed_date  \\\n",
       "0 -8063280106777311930  8.138699e+18   CASH_SALES     2018-04-03   \n",
       "1 -3785456775112180505  8.138699e+18   CASH_SALES     2018-01-23   \n",
       "\n",
       "   disbursed_amount loan_due_date           settlement_date  \\\n",
       "0              1250    2018-05-02 2018-04-03 00:00:00+00:00   \n",
       "1              1250    2018-02-22 2018-01-23 00:00:00+00:00   \n",
       "\n",
       "   gross_loan_interest  surplus_payment  unerned_interest  penalties  waiver  \\\n",
       "0                  0.0              0.0               0.0          0 -1250.0   \n",
       "1                  0.0              0.0               0.0          0 -1250.0   \n",
       "\n",
       "   initiation_fee  admin_fee  appointment_fee  joining_fee  fix  total_due  \\\n",
       "0               0        0.0              0.0          0.0  0.0        0.0   \n",
       "1               0        0.0              0.0          0.0  0.0        0.0   \n",
       "\n",
       "   total_amount_paid last_payment_date  \n",
       "0          5509400.0        2023-08-27  \n",
       "1           428000.0        2023-08-31  "
      ]
     },
     "execution_count": 11,
     "metadata": {},
     "output_type": "execute_result"
    }
   ],
   "source": [
    "# merge with loan data\n",
    "loan_payment_df = loan_data.merge(\n",
    "    payments_agg,\n",
    "    left_on='loan_code',     # column name in loan_data\n",
    "    right_on='loan_rep_code', # column name in payments_agg\n",
    "    how='left'                # consider all entries from the left table and only the matching from the right only\n",
    ").drop(columns=['loan_rep_code']) # drop loan_rep_code to avoid duplication of the column\n",
    "\n",
    "\n",
    "\n",
    "# Display sample row from the merged dataset\n",
    "loan_payment_df.head(2)"
   ]
  },
  {
   "cell_type": "markdown",
   "id": "3a3291e4",
   "metadata": {},
   "source": [
    "### Compute Requested Metrics"
   ]
  },
  {
   "cell_type": "markdown",
   "id": "5116a8dd",
   "metadata": {},
   "source": [
    "#### 1. Default Rate\n",
    "proportion of loans that have become non-performing (past due > 120 days and not yet settled)  "
   ]
  },
  {
   "cell_type": "code",
   "execution_count": 12,
   "id": "b2909ea1",
   "metadata": {},
   "outputs": [
    {
     "name": "stdout",
     "output_type": "stream",
     "text": [
      "The current default rate for the portfolio is 2.45% of total loans.\n"
     ]
    }
   ],
   "source": [
    "# DPD (days past due, only for active loans)\n",
    "loan_payment_df['day_past_due'] = (loan_payment_df['last_payment_date'] - loan_payment_df['loan_due_date']).dt.days\n",
    "\n",
    "# Ensure 'day_past_due' column has no negative values and is stored as integer\n",
    "loan_payment_df['day_past_due'] = (\n",
    "    loan_payment_df['day_past_due']       \n",
    "    .clip(lower=0)                        # set all negative values to 0\n",
    "    .astype(\"Int64\")                      # convert to pandas nullable integer type (preserves NaN)\n",
    ")\n",
    "\n",
    "\n",
    "# create a flag for a default loan only for active load\n",
    "loan_payment_df['is_default'] = (loan_payment_df['day_past_due'] > 120) & loan_payment_df['settlement_date'].isna()\n",
    "\n",
    "# Compute the default rate\n",
    "default_rate = (loan_payment_df['is_default'].sum() / len(loan_payment_df)) * 100\n",
    "print(f\"The current default rate for the portfolio is {default_rate:.2f}% of total loans.\")\n"
   ]
  },
  {
   "cell_type": "markdown",
   "id": "6228f398",
   "metadata": {},
   "source": [
    "#### 2. Write-off Rate (Due Date +120 days)\n",
    "This represent share of total principal written off due to default  "
   ]
  },
  {
   "cell_type": "code",
   "execution_count": 13,
   "id": "67e1a92d",
   "metadata": {},
   "outputs": [
    {
     "name": "stdout",
     "output_type": "stream",
     "text": [
      "The write-off rate of the portfolio is 8.34% of the total disbursed principal.\n"
     ]
    }
   ],
   "source": [
    "# Calculate the total principal amount of loans that are written off\n",
    "# Loans are considered written off if days past due (dpd) > 120\n",
    "total_principal_written_off = loan_payment_df.loc[loan_payment_df['day_past_due'] > 120, 'disbursed_amount'].sum()\n",
    "\n",
    "# Calculate the total principal of all loans\n",
    "total_principal_all = loan_payment_df['disbursed_amount'].sum()\n",
    "\n",
    "# Compute the write-off rate as a percentage of total principal\n",
    "write_off_rate = (total_principal_written_off / total_principal_all) * 100\n",
    "\n",
    "print(f\"The write-off rate of the portfolio is {write_off_rate:.2f}% of the total disbursed principal.\")"
   ]
  },
  {
   "cell_type": "markdown",
   "id": "b4c94023",
   "metadata": {},
   "source": [
    "#### 3. Portfolio at Risk (PAR &gt; 30,60,90 days)\n",
    "Outstanding balance of loans overdue beyond a specified threshold relative to the total active portfolio"
   ]
  },
  {
   "cell_type": "code",
   "execution_count": 14,
   "id": "9ae9da3e",
   "metadata": {},
   "outputs": [
    {
     "name": "stdout",
     "output_type": "stream",
     "text": [
      "Portfolio at Risk (PAR) for loans overdue more than 30 days: 152.88%\n",
      "Portfolio at Risk (PAR) for loans overdue more than 60 days: 182.91%\n",
      "Portfolio at Risk (PAR) for loans overdue more than 90 days: 202.10%\n"
     ]
    }
   ],
   "source": [
    "# Portfolio at Risk (PAR) Calculation\n",
    "\n",
    "# Step 1: Calculate outstanding balance for each loan\n",
    "loan_payment_df['outstanding'] = loan_payment_df['total_due'] - loan_payment_df['total_amount_paid']\n",
    "\n",
    "# Step 2: Filter only active loans (settlement_date is NULL)\n",
    "active_loans = loan_payment_df[loan_payment_df['settlement_date'].isna()]\n",
    "\n",
    "# Step 3: Calculate total outstanding balance for all active loans\n",
    "total_outstanding = active_loans['outstanding'].sum()\n",
    "\n",
    "# Step 4: Define PAR thresholds in days\n",
    "par_thresholds = [30, 60, 90]\n",
    "par_results = {}\n",
    "\n",
    "# Step 5: Compute PAR for each threshold\n",
    "for days in par_thresholds:\n",
    "    # Sum of outstanding balances for loans past due greater than the threshold\n",
    "    outstanding_overdue = active_loans.loc[active_loans['day_past_due'] > days, 'outstanding'].sum()\n",
    "    \n",
    "    # Calculate PAR as a percentage of total outstanding\n",
    "    par_percentage = (outstanding_overdue / total_outstanding) * 100\n",
    "    \n",
    "    # Store result\n",
    "    par_results[days] = par_percentage\n",
    "\n",
    "# Step 6: Print PAR results\n",
    "for days, par_value in par_results.items():\n",
    "    print(f\"Portfolio at Risk (PAR) for loans overdue more than {days} days: {par_value:.2f}%\")\n"
   ]
  },
  {
   "cell_type": "markdown",
   "id": "70984d6c",
   "metadata": {},
   "source": [
    "#### 4. Recovery Rate\n",
    "this respresent effectiveness of recovering amounts from defaulted loans"
   ]
  },
  {
   "cell_type": "code",
   "execution_count": 15,
   "id": "58db4cc6",
   "metadata": {},
   "outputs": [
    {
     "name": "stdout",
     "output_type": "stream",
     "text": [
      "The recovery rate from defaulted loans is 253.08% of the total amount in default.\n"
     ]
    }
   ],
   "source": [
    "# Calculate the total amount recovered from defaulted loans\n",
    "# Only consider loans marked as defaulted (is_default == True)\n",
    "# Sum up all payments made towards these defaulted loans\n",
    "recovered_from_defaults = (\n",
    "    loan_payment_df.loc[loan_payment_df['is_default'], 'total_amount_paid'].sum()\n",
    ")\n",
    "\n",
    "# Calculate the total amount in default\n",
    "# Using total_due for each defaulted loan to represent the full amount owed at the time of default\n",
    "total_default_amount = loan_payment_df.loc[loan_payment_df['is_default'], 'total_due'].sum()\n",
    "\n",
    "# Calculate Recovery Rate as a percentage\n",
    "# Recovery Rate = (Amount Recovered) / (Total Amount in Default) * 100\n",
    "# If no defaults exist  set recovery rate to 0 to avoid division by zero error\n",
    "recovery_rate = (recovered_from_defaults / total_default_amount) * 100 if total_default_amount > 0 else 0\n",
    "print(f\"The recovery rate from defaulted loans is {recovery_rate:.2f}% of the total amount in default.\")"
   ]
  },
  {
   "cell_type": "markdown",
   "id": "77d72e49",
   "metadata": {},
   "source": [
    "#### 5. Average Days Past Due (DPD)\n",
    "typical delay in repayment among overdue loans"
   ]
  },
  {
   "cell_type": "code",
   "execution_count": 16,
   "id": "d620e934",
   "metadata": {},
   "outputs": [
    {
     "name": "stdout",
     "output_type": "stream",
     "text": [
      "The average days past due (DPD) for active past-due loans is 355.34 days.\n"
     ]
    }
   ],
   "source": [
    "# Filter only active loans that are past due (Current Date > loan_due_date)\n",
    "past_due_loans = loan_payment_df[(loan_payment_df['settlement_date'].isna()) & \n",
    "                             (loan_payment_df['last_payment_date'] > loan_payment_df['loan_due_date'])]\n",
    "\n",
    "\n",
    "# Average DPD = sum of DPD / number of past-due loans\n",
    "average_dpd = past_due_loans['day_past_due'].sum() / len(past_due_loans) if len(past_due_loans) > 0 else 0\n",
    "\n",
    "print(f\"The average days past due (DPD) for active past-due loans is {average_dpd:.2f} days.\")\n"
   ]
  },
  {
   "cell_type": "markdown",
   "id": "6eb2d155",
   "metadata": {},
   "source": [
    "#### 6. Net Interest Margin (NIM) per Loan\n",
    "simplified gross yield including interest and net fees"
   ]
  },
  {
   "cell_type": "code",
   "execution_count": 30,
   "id": "ff3e0684",
   "metadata": {},
   "outputs": [
    {
     "name": "stdout",
     "output_type": "stream",
     "text": [
      "NIM per loan (first 5 loans):\n"
     ]
    },
    {
     "data": {
      "text/html": [
       "<div>\n",
       "<style scoped>\n",
       "    .dataframe tbody tr th:only-of-type {\n",
       "        vertical-align: middle;\n",
       "    }\n",
       "\n",
       "    .dataframe tbody tr th {\n",
       "        vertical-align: top;\n",
       "    }\n",
       "\n",
       "    .dataframe thead th {\n",
       "        text-align: right;\n",
       "    }\n",
       "</style>\n",
       "<table border=\"1\" class=\"dataframe\">\n",
       "  <thead>\n",
       "    <tr style=\"text-align: right;\">\n",
       "      <th></th>\n",
       "      <th>loan_code</th>\n",
       "      <th>settlement_date</th>\n",
       "      <th>disbursed_date</th>\n",
       "      <th>net_interest_margin</th>\n",
       "    </tr>\n",
       "  </thead>\n",
       "  <tbody>\n",
       "    <tr>\n",
       "      <th>0</th>\n",
       "      <td>-8063280106777311930</td>\n",
       "      <td>2018-04-03 00:00:00+00:00</td>\n",
       "      <td>2018-04-03</td>\n",
       "      <td>0.944000</td>\n",
       "    </tr>\n",
       "    <tr>\n",
       "      <th>1</th>\n",
       "      <td>-3785456775112180505</td>\n",
       "      <td>2018-01-23 00:00:00+00:00</td>\n",
       "      <td>2018-01-23</td>\n",
       "      <td>0.944000</td>\n",
       "    </tr>\n",
       "    <tr>\n",
       "      <th>2</th>\n",
       "      <td>4192675035644252092</td>\n",
       "      <td>2018-08-27 00:00:00+00:00</td>\n",
       "      <td>2018-08-23</td>\n",
       "      <td>0.332559</td>\n",
       "    </tr>\n",
       "    <tr>\n",
       "      <th>3</th>\n",
       "      <td>-6556919864984443676</td>\n",
       "      <td>2018-12-10 00:00:00+00:00</td>\n",
       "      <td>2018-11-27</td>\n",
       "      <td>0.159226</td>\n",
       "    </tr>\n",
       "    <tr>\n",
       "      <th>4</th>\n",
       "      <td>1796654104776969268</td>\n",
       "      <td>2019-01-05 00:00:00+00:00</td>\n",
       "      <td>2018-12-20</td>\n",
       "      <td>0.139226</td>\n",
       "    </tr>\n",
       "  </tbody>\n",
       "</table>\n",
       "</div>"
      ],
      "text/plain": [
       "             loan_code            settlement_date disbursed_date  \\\n",
       "0 -8063280106777311930  2018-04-03 00:00:00+00:00     2018-04-03   \n",
       "1 -3785456775112180505  2018-01-23 00:00:00+00:00     2018-01-23   \n",
       "2  4192675035644252092  2018-08-27 00:00:00+00:00     2018-08-23   \n",
       "3 -6556919864984443676  2018-12-10 00:00:00+00:00     2018-11-27   \n",
       "4  1796654104776969268  2019-01-05 00:00:00+00:00     2018-12-20   \n",
       "\n",
       "   net_interest_margin  \n",
       "0             0.944000  \n",
       "1             0.944000  \n",
       "2             0.332559  \n",
       "3             0.159226  \n",
       "4             0.139226  "
      ]
     },
     "execution_count": 30,
     "metadata": {},
     "output_type": "execute_result"
    }
   ],
   "source": [
    "# Step 1: Compute effective settlement date (fallback to last payment if settlement is missing)\n",
    "loan_payment_df['effective_settlement_date'] = loan_payment_df['settlement_date'].fillna(loan_payment_df['last_payment_date'])\n",
    "\n",
    "loan_payment_df['effective_settlement_date'] = pd.to_datetime(\n",
    "    loan_payment_df['effective_settlement_date'], errors='coerce'\n",
    ").dt.tz_localize(None).dt.normalize()\n",
    "\n",
    "# Step 2: Calculate earned interest\n",
    "loan_payment_df['earned_interest'] = loan_payment_df['gross_loan_interest'] - loan_payment_df['unerned_interest']\n",
    "\n",
    "# Step 3: Calculate net fees: sum of all fees minus waivers\n",
    "loan_payment_df['net_fees'] = (\n",
    "    loan_payment_df[['initiation_fee','admin_fee','appointment_fee','joining_fee','fix']].sum(axis=1) - loan_payment_df['waiver']\n",
    ")\n",
    "\n",
    "# Step 4: Compute loan tenure in years\n",
    "loan_payment_df['loan_tenure_years'] = (\n",
    "    (loan_payment_df['effective_settlement_date'] - loan_payment_df['disbursed_date']).dt.days / 365\n",
    ")\n",
    "\n",
    "# Step 5: Compute denominator for NIM\n",
    "denominator = loan_payment_df['disbursed_amount']\n",
    "\n",
    "# initialize disbursement cost\n",
    "disbursement_cost = 70\n",
    "\n",
    "# Step 6: Compute NIM, set to 0 if denominator <= 0 to avoid inf\n",
    "loan_payment_df['net_interest_margin'] = np.where(\n",
    "    denominator > 0,\n",
    "    (loan_payment_df['earned_interest'] + ((loan_payment_df['net_fees']) - disbursement_cost)) / denominator,\n",
    "    0  # set NIM to 0 for zero tenure or zero disbursed amount\n",
    ")\n",
    "\n",
    "# Step 7: Display first 5 loans\n",
    "print(\"NIM per loan (first 5 loans):\")\n",
    "loan_payment_df[['loan_code','settlement_date','disbursed_date','net_interest_margin']].head()\n"
   ]
  },
  {
   "cell_type": "markdown",
   "id": "f942b99d",
   "metadata": {},
   "source": [
    "#### 7. Loan Loss Provisioning &amp; Cost Impact\n",
    "Estimated provisioning expense based on overdue loans and company policy "
   ]
  },
  {
   "cell_type": "code",
   "execution_count": null,
   "id": "b4f05a08",
   "metadata": {},
   "outputs": [
    {
     "name": "stdout",
     "output_type": "stream",
     "text": [
      "The total loan loss provision expense for the portfolio is -49920069769.45.\n"
     ]
    }
   ],
   "source": [
    "# Define provisioning rate based on DPD\n",
    "def provisioning_rate(dpd):\n",
    "    if dpd <= 30:\n",
    "        return 0.05  # 5%\n",
    "    elif dpd <= 120:\n",
    "        return 0.25  # 25%\n",
    "    else:\n",
    "        return 1.0   # 100% for defaulted loans\n",
    "\n",
    "loan_payment_df['provision_rate'] = loan_payment_df['day_past_due'].apply(provisioning_rate)\n",
    "\n",
    "# Provision per loan\n",
    "loan_payment_df['loan_provision'] = loan_payment_df['outstanding'] * loan_payment_df['provision_rate']\n",
    "\n",
    "# Total provision expense for the portfolio\n",
    "total_provision_expense = loan_payment_df['loan_provision'].sum()\n",
    "\n",
    "print(f\"The total loan loss provision expense for the portfolio is {total_provision_expense:.2f}.\")\n"
   ]
  },
  {
   "cell_type": "markdown",
   "id": "2bede095",
   "metadata": {},
   "source": [
    "## Conclusion\n",
    "\n",
    "The analysis of the loan portfolio reveals a **relatively low default rate** of 2.45% of total loans, while the **write-off rate** stands at 8.34% of the total disbursed principal. However, the **Portfolio at Risk (PAR > 30,60,and 90 days)** is 152.88%,182.91%, and 202.10% respectively. The **recovery rate** exceeds 100% at 253.08%, suggesting that collections from defaulted loans have more than covered the amounts classified as in default, potentially due to overpayments or data inconsistencies. The **average DPD** for active past-due loans is 355.34 days, highlighting a substantial delay in repayments. Finally, the **total loan loss provisioning** is negative (-49,920,697,769.45), which may indicate calculation or data issues, as provision expenses are expected to be positive, reflecting potential credit losses. Overall, while defaults are low, the unusually high PAR, recovery, and negative provisioning figures warrant further investigation to ensure data accuracy and reliable portfolio risk assessment.\n"
   ]
  }
 ],
 "metadata": {
  "kernelspec": {
   "display_name": "Python 3 (ipykernel)",
   "language": "python",
   "name": "python3"
  },
  "language_info": {
   "codemirror_mode": {
    "name": "ipython",
    "version": 3
   },
   "file_extension": ".py",
   "mimetype": "text/x-python",
   "name": "python",
   "nbconvert_exporter": "python",
   "pygments_lexer": "ipython3",
   "version": "3.13.7"
  }
 },
 "nbformat": 4,
 "nbformat_minor": 5
}
